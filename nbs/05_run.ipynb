{
 "cells": [
  {
   "cell_type": "code",
   "execution_count": null,
   "id": "fe3a5b73",
   "metadata": {},
   "outputs": [],
   "source": [
    "#| default_exp run"
   ]
  },
  {
   "cell_type": "markdown",
   "id": "9adc36c2",
   "metadata": {},
   "source": [
    "# Executing notebooks\n",
    "> Using execnb to run the notebooks"
   ]
  },
  {
   "cell_type": "code",
   "execution_count": null,
   "id": "2be374de",
   "metadata": {},
   "outputs": [],
   "source": [
    "#| export\n",
    "import time, os, logging, re\n",
    "from pathlib import Path\n",
    "from typing import Union\n",
    "\n",
    "from fastcore.basics import patch\n",
    "from fastcore.script import call_parse, Param, store_true\n",
    "from rich.progress import Progress\n",
    "\n",
    "from execnb.nbio import read_nb\n",
    "from execnb.shell import *\n",
    "from nb_helpers.actions import create_issue_nb_fail\n",
    "\n",
    "from nb_helpers.utils import find_nbs, git_main_name, search_string_in_nb, RichLogger\n",
    "from nb_helpers.colab import get_colab_url"
   ]
  },
  {
   "cell_type": "code",
   "execution_count": null,
   "id": "d3263ded",
   "metadata": {},
   "outputs": [],
   "source": [
    "util_nb = Path(\"02_utils.ipynb\")\n",
    "notebook = read_nb(util_nb)\n",
    "\n",
    "fail_nb = Path(\"test_data/fail_nb.ipynb\")\n",
    "fail_notebook = read_nb(fail_nb)"
   ]
  },
  {
   "cell_type": "code",
   "execution_count": null,
   "id": "fe94d69b",
   "metadata": {},
   "outputs": [],
   "source": [
    "#| export\n",
    "logger = RichLogger(columns=[\"fname\", \"status\", \"t[s]\"])"
   ]
  },
  {
   "cell_type": "code",
   "execution_count": null,
   "id": "c1266f42",
   "metadata": {},
   "outputs": [],
   "source": [
    "#| export\n",
    "def skip_nb(notebook, filters=None):\n",
    "    \"check for notebook filters: tensorflow, pytorch, ...\"\n",
    "    if filters is None: \n",
    "        return False\n",
    "    return search_string_in_nb(notebook, filters)"
   ]
  },
  {
   "cell_type": "code",
   "execution_count": null,
   "id": "b6cd6c0d",
   "metadata": {},
   "outputs": [],
   "source": [
    "assert not skip_nb(notebook)\n",
    "assert search_string_in_nb(notebook, \"datetime\")"
   ]
  },
  {
   "cell_type": "code",
   "execution_count": null,
   "id": "25138928",
   "metadata": {},
   "outputs": [],
   "source": [
    "#| export\n",
    "def exec_nb(fname, pip_install=True):\n",
    "    \"Execute tests in notebook in `fn`\"\n",
    "    nb = read_nb(fname)\n",
    "\n",
    "    def preproc(cell):\n",
    "        logger.info(cell.source)\n",
    "        if (cell.cell_type == \"code\" and \"!pip install\" in cell.source and not pip_install) :\n",
    "            return True\n",
    "        if cell.cell_type != \"code\":\n",
    "            return True\n",
    "        else:\n",
    "            return False\n",
    "\n",
    "    shell = CaptureShell(fname)\n",
    "    try:\n",
    "        shell.run_all(nb, exc_stop=True, preproc=preproc)\n",
    "    except Exception as e:\n",
    "        return False, shell\n",
    "    return True, shell"
   ]
  },
  {
   "cell_type": "code",
   "execution_count": null,
   "id": "3c94174f",
   "metadata": {},
   "outputs": [],
   "source": [
    "run, ex = exec_nb(util_nb)\n",
    "# the utils notebooks should run\n",
    "\n",
    "assert run\n",
    "\n",
    "run, ex = exec_nb(fail_nb)\n",
    "assert not run"
   ]
  },
  {
   "cell_type": "code",
   "execution_count": null,
   "id": "7136d82a",
   "metadata": {},
   "outputs": [],
   "source": [
    "#| export\n",
    "@patch\n",
    "def prettytb(\n",
    "    self: CaptureShell, fname: Union[Path, str] = None, simple=False\n",
    "):  # filename to print alongside the traceback\n",
    "    \"Show a pretty traceback for notebooks, optionally printing `fname`.\"\n",
    "    fname = fname if fname else self._fname\n",
    "    _fence = \"=\" * 75\n",
    "    cell_intro_str = f\"While Executing Cell #{self._cell_idx}:\" if self._cell_idx else \"While Executing:\"\n",
    "    cell_str = f\"\\n{cell_intro_str}\\n{self.exc[-1]}\"\n",
    "    fname_str = f\" in {fname}\" if fname else \"\"\n",
    "    res = f\"{type(self.exc[1]).__name__}{fname_str}:\\n{_fence}\\n{cell_str}\\n\"\n",
    "    if simple:\n",
    "        ansi_escape = re.compile(r\"\\x1B(?:[@-Z\\\\-_]|\\[[0-?]*[ -/]*[@-~])\")\n",
    "        res = ansi_escape.sub(\"\", res)\n",
    "    return res"
   ]
  },
  {
   "cell_type": "code",
   "execution_count": null,
   "id": "025e56f0",
   "metadata": {},
   "outputs": [
    {
     "name": "stdout",
     "output_type": "stream",
     "text": [
      "TypeError:\n",
      "===========================================================================\n",
      "\n",
      "While Executing Cell #4:\n",
      "\u001b[0;31m---------------------------------------------------------------------------\u001b[0m\n",
      "\u001b[0;31mTypeError\u001b[0m                                 Traceback (most recent call last)\n",
      "Input \u001b[0;32mIn [1]\u001b[0m, in \u001b[0;36m<cell line: 2>\u001b[0;34m()\u001b[0m\n",
      "\u001b[1;32m      1\u001b[0m \u001b[38;5;66;03m#|eval: false\u001b[39;00m\n",
      "\u001b[0;32m----> 2\u001b[0m \u001b[43mg\u001b[49m\u001b[43m(\u001b[49m\u001b[38;5;124;43m'\u001b[39;49m\u001b[38;5;124;43mhola\u001b[39;49m\u001b[38;5;124;43m'\u001b[39;49m\u001b[43m)\u001b[49m\n",
      "\n",
      "Input \u001b[0;32mIn [1]\u001b[0m, in \u001b[0;36mg\u001b[0;34m(x)\u001b[0m\n",
      "\u001b[1;32m      1\u001b[0m \u001b[38;5;28;01mdef\u001b[39;00m \u001b[38;5;21mg\u001b[39m(x):\n",
      "\u001b[0;32m----> 2\u001b[0m     \u001b[38;5;28;01mreturn\u001b[39;00m \u001b[43mf\u001b[49m\u001b[43m(\u001b[49m\u001b[43mx\u001b[49m\u001b[43m)\u001b[49m \u001b[38;5;241m*\u001b[39m \u001b[38;5;241m2\u001b[39m\n",
      "\n",
      "Input \u001b[0;32mIn [1]\u001b[0m, in \u001b[0;36mf\u001b[0;34m(x)\u001b[0m\n",
      "\u001b[1;32m      1\u001b[0m \u001b[38;5;28;01mdef\u001b[39;00m \u001b[38;5;21mf\u001b[39m(x:\u001b[38;5;28mint\u001b[39m):\n",
      "\u001b[0;32m----> 2\u001b[0m     \u001b[38;5;28;01mreturn\u001b[39;00m \u001b[43mx\u001b[49m\u001b[43m \u001b[49m\u001b[38;5;241;43m+\u001b[39;49m\u001b[43m \u001b[49m\u001b[38;5;241;43m1\u001b[39;49m\n",
      "\n",
      "\u001b[0;31mTypeError\u001b[0m: can only concatenate str (not \"int\") to str\n",
      "\n"
     ]
    }
   ],
   "source": [
    "print(ex.prettytb())"
   ]
  },
  {
   "cell_type": "code",
   "execution_count": null,
   "id": "a530aebc",
   "metadata": {},
   "outputs": [],
   "source": [
    "#| export\n",
    "def run_one(\n",
    "    fname: Union[Path, str],\n",
    "    lib_name: str = None,\n",
    "    no_run: bool = False,\n",
    "    pip_install=False,\n",
    "    github_issue=False,\n",
    "    repo=None,\n",
    "    owner=None,\n",
    "):\n",
    "    \"Run nb `fname` and timeit, recover exception\"\n",
    "    did_run, skip, exec_time = False, False, time.time()\n",
    "\n",
    "    # read notebook as dict\n",
    "    notebook = read_nb(fname)\n",
    "\n",
    "    # check if notebooks has to be runned\n",
    "    skip = skip_nb(notebook, lib_name)\n",
    "\n",
    "    if skip or no_run:\n",
    "        return \"skip\", 0\n",
    "    else:\n",
    "        did_run, shell = exec_nb(fname, pip_install=pip_install)\n",
    "    if shell.exc:\n",
    "        print(shell.prettytb(fname))\n",
    "        logger.error(f\"Error in {fname}:{shell.exc[1]}\")\n",
    "        if github_issue:\n",
    "            create_issue_nb_fail(fname, shell.prettytb(fname, simple=True), repo=repo, owner=owner)\n",
    "    return \"ok\" if did_run else \"fail\", time.time() - exec_time"
   ]
  },
  {
   "cell_type": "code",
   "execution_count": null,
   "id": "dbd189a4",
   "metadata": {},
   "outputs": [
    {
     "name": "stdout",
     "output_type": "stream",
     "text": [
      "TypeError in test_data/fail_nb.ipynb:\n",
      "===========================================================================\n",
      "\n",
      "While Executing Cell #4:\n",
      "\u001b[0;31m---------------------------------------------------------------------------\u001b[0m\n",
      "\u001b[0;31mTypeError\u001b[0m                                 Traceback (most recent call last)\n",
      "Input \u001b[0;32mIn [1]\u001b[0m, in \u001b[0;36m<cell line: 2>\u001b[0;34m()\u001b[0m\n",
      "\u001b[1;32m      1\u001b[0m \u001b[38;5;66;03m#|eval: false\u001b[39;00m\n",
      "\u001b[0;32m----> 2\u001b[0m \u001b[43mg\u001b[49m\u001b[43m(\u001b[49m\u001b[38;5;124;43m'\u001b[39;49m\u001b[38;5;124;43mhola\u001b[39;49m\u001b[38;5;124;43m'\u001b[39;49m\u001b[43m)\u001b[49m\n",
      "\n",
      "Input \u001b[0;32mIn [1]\u001b[0m, in \u001b[0;36mg\u001b[0;34m(x)\u001b[0m\n",
      "\u001b[1;32m      1\u001b[0m \u001b[38;5;28;01mdef\u001b[39;00m \u001b[38;5;21mg\u001b[39m(x):\n",
      "\u001b[0;32m----> 2\u001b[0m     \u001b[38;5;28;01mreturn\u001b[39;00m \u001b[43mf\u001b[49m\u001b[43m(\u001b[49m\u001b[43mx\u001b[49m\u001b[43m)\u001b[49m \u001b[38;5;241m*\u001b[39m \u001b[38;5;241m2\u001b[39m\n",
      "\n",
      "Input \u001b[0;32mIn [1]\u001b[0m, in \u001b[0;36mf\u001b[0;34m(x)\u001b[0m\n",
      "\u001b[1;32m      1\u001b[0m \u001b[38;5;28;01mdef\u001b[39;00m \u001b[38;5;21mf\u001b[39m(x:\u001b[38;5;28mint\u001b[39m):\n",
      "\u001b[0;32m----> 2\u001b[0m     \u001b[38;5;28;01mreturn\u001b[39;00m \u001b[43mx\u001b[49m\u001b[43m \u001b[49m\u001b[38;5;241;43m+\u001b[39;49m\u001b[43m \u001b[49m\u001b[38;5;241;43m1\u001b[39;49m\n",
      "\n",
      "\u001b[0;31mTypeError\u001b[0m: can only concatenate str (not \"int\") to str\n",
      "\n"
     ]
    },
    {
     "data": {
      "text/plain": [
       "('fail', 0.08890080451965332)"
      ]
     },
     "execution_count": null,
     "metadata": {},
     "output_type": "execute_result"
    }
   ],
   "source": [
    "run_one(fail_nb)"
   ]
  },
  {
   "cell_type": "code",
   "execution_count": null,
   "id": "81dbac2f",
   "metadata": {},
   "outputs": [],
   "source": [
    "#| export\n",
    "@call_parse\n",
    "def run_nbs(\n",
    "    path: Param(\"A path to nb files\", Path, nargs=\"?\", opt=False) = os.getcwd(),\n",
    "    verbose: Param(\"Print errors along the way\", store_true) = False,\n",
    "    lib_name: Param(\"Python lib names to filter, eg: tensorflow\", str) = None,\n",
    "    no_run: Param(\"Do not run any notebook\", store_true) = False,\n",
    "    pip_install: Param(\"Run cells with !pip install\", store_true) = False,\n",
    "    github_issue: Param(\"Create a github issue if notebook fails\", store_true) = False,\n",
    "    repo: Param(\"Github repo to create issue in\", str) = None,\n",
    "    owner: Param(\"Github owner to create issue in\", str) = None,\n",
    "):\n",
    "    if verbose:\n",
    "        logger.logger.setLevel(logging.DEBUG)\n",
    "    path = Path(path)\n",
    "    files = find_nbs(path)\n",
    "    branch = git_main_name(files[0])\n",
    "\n",
    "    with Progress(console=logger.console) as progress:\n",
    "        task_run_nbs = progress.add_task(\"Running nbs...\", total=len(files))\n",
    "        for fname in files:\n",
    "            progress.update(task_run_nbs, description=f\"Running nb: {str(fname.relative_to(fname.parent.parent))}\")\n",
    "            (run_status, runtime) = run_one(\n",
    "                fname,\n",
    "                lib_name=lib_name,\n",
    "                no_run=no_run,\n",
    "                pip_install=pip_install,\n",
    "                github_issue=github_issue,\n",
    "                repo=repo,\n",
    "                owner=owner,\n",
    "            )\n",
    "            progress.advance(task_run_nbs)\n",
    "            logger.writerow_incolor(fname, run_status, runtime, colab_link=get_colab_url(fname, branch))\n",
    "            time.sleep(0.1)\n",
    "\n",
    "    logger.to_table()\n",
    "    logger.to_md(\"run.md\")\n",
    "    return"
   ]
  },
  {
   "cell_type": "code",
   "execution_count": null,
   "id": "c1a1fbd6",
   "metadata": {},
   "outputs": [
    {
     "ename": "NameError",
     "evalue": "name 'output_file' is not defined",
     "output_type": "error",
     "traceback": [
      "\u001b[0;31m---------------------------------------------------------------------------\u001b[0m",
      "\u001b[0;31mNameError\u001b[0m                                 Traceback (most recent call last)",
      "File \u001b[0;32m/var/folders/sf/tgv7vcv96x557p38bvvp1ms40000gn/T/ipykernel_85040/1130155967.py:1\u001b[0m, in \u001b[0;36m<cell line: 1>\u001b[0;34m()\u001b[0m\n\u001b[0;32m----> 1\u001b[0m \u001b[43mrun_nbs\u001b[49m\u001b[43m(\u001b[49m\u001b[38;5;124;43m\"\u001b[39;49m\u001b[38;5;124;43mtest_data\u001b[39;49m\u001b[38;5;124;43m\"\u001b[39;49m\u001b[43m)\u001b[49m\n",
      "File \u001b[0;32m~/miniforge3/envs/nbdev2/lib/python3.10/site-packages/fastcore/script.py:108\u001b[0m, in \u001b[0;36mcall_parse.<locals>._f\u001b[0;34m(*args, **kwargs)\u001b[0m\n\u001b[1;32m    105\u001b[0m \u001b[38;5;129m@wraps\u001b[39m(func)\n\u001b[1;32m    106\u001b[0m \u001b[38;5;28;01mdef\u001b[39;00m \u001b[38;5;21m_f\u001b[39m(\u001b[38;5;241m*\u001b[39margs, \u001b[38;5;241m*\u001b[39m\u001b[38;5;241m*\u001b[39mkwargs):\n\u001b[1;32m    107\u001b[0m     mod \u001b[38;5;241m=\u001b[39m inspect\u001b[38;5;241m.\u001b[39mgetmodule(inspect\u001b[38;5;241m.\u001b[39mcurrentframe()\u001b[38;5;241m.\u001b[39mf_back)\n\u001b[0;32m--> 108\u001b[0m     \u001b[38;5;28;01mif\u001b[39;00m \u001b[38;5;129;01mnot\u001b[39;00m mod: \u001b[38;5;28;01mreturn\u001b[39;00m \u001b[43mfunc\u001b[49m\u001b[43m(\u001b[49m\u001b[38;5;241;43m*\u001b[39;49m\u001b[43margs\u001b[49m\u001b[43m,\u001b[49m\u001b[43m \u001b[49m\u001b[38;5;241;43m*\u001b[39;49m\u001b[38;5;241;43m*\u001b[39;49m\u001b[43mkwargs\u001b[49m\u001b[43m)\u001b[49m\n\u001b[1;32m    109\u001b[0m     \u001b[38;5;28;01mif\u001b[39;00m \u001b[38;5;129;01mnot\u001b[39;00m SCRIPT_INFO\u001b[38;5;241m.\u001b[39mfunc \u001b[38;5;129;01mand\u001b[39;00m mod\u001b[38;5;241m.\u001b[39m\u001b[38;5;18m__name__\u001b[39m\u001b[38;5;241m==\u001b[39m\u001b[38;5;124m\"\u001b[39m\u001b[38;5;124m__main__\u001b[39m\u001b[38;5;124m\"\u001b[39m: SCRIPT_INFO\u001b[38;5;241m.\u001b[39mfunc \u001b[38;5;241m=\u001b[39m func\u001b[38;5;241m.\u001b[39m\u001b[38;5;18m__name__\u001b[39m\n\u001b[1;32m    110\u001b[0m     \u001b[38;5;28;01mif\u001b[39;00m \u001b[38;5;28mlen\u001b[39m(sys\u001b[38;5;241m.\u001b[39margv)\u001b[38;5;241m>\u001b[39m\u001b[38;5;241m1\u001b[39m \u001b[38;5;129;01mand\u001b[39;00m sys\u001b[38;5;241m.\u001b[39margv[\u001b[38;5;241m1\u001b[39m]\u001b[38;5;241m==\u001b[39m\u001b[38;5;124m'\u001b[39m\u001b[38;5;124m'\u001b[39m: sys\u001b[38;5;241m.\u001b[39margv\u001b[38;5;241m.\u001b[39mpop(\u001b[38;5;241m1\u001b[39m)\n",
      "File \u001b[0;32m/var/folders/sf/tgv7vcv96x557p38bvvp1ms40000gn/T/ipykernel_85040/1600286581.py:37\u001b[0m, in \u001b[0;36mrun_nbs\u001b[0;34m(path, verbose, lib_name, no_run, pip_install, github_issue, repo, owner)\u001b[0m\n\u001b[1;32m     34\u001b[0m         time\u001b[38;5;241m.\u001b[39msleep(\u001b[38;5;241m0.1\u001b[39m)\n\u001b[1;32m     36\u001b[0m logger\u001b[38;5;241m.\u001b[39mto_table()\n\u001b[0;32m---> 37\u001b[0m \u001b[43mlogger\u001b[49m\u001b[38;5;241;43m.\u001b[39;49m\u001b[43mto_md\u001b[49m\u001b[43m(\u001b[49m\u001b[38;5;124;43m\"\u001b[39;49m\u001b[38;5;124;43mrun.md\u001b[39;49m\u001b[38;5;124;43m\"\u001b[39;49m\u001b[43m)\u001b[49m\n\u001b[1;32m     38\u001b[0m \u001b[38;5;28;01mreturn\u001b[39;00m\n",
      "File \u001b[0;32m~/wandb/nb_helpers/nb_helpers/utils.py:156\u001b[0m, in \u001b[0;36mRichLogger.to_md\u001b[0;34m(self, out_file)\u001b[0m\n\u001b[1;32m    154\u001b[0m csv_file \u001b[38;5;241m=\u001b[39m Path(out_file)\u001b[38;5;241m.\u001b[39mwith_suffix(\u001b[38;5;124m\"\u001b[39m\u001b[38;5;124m.csv\u001b[39m\u001b[38;5;124m\"\u001b[39m)\n\u001b[1;32m    155\u001b[0m \u001b[38;5;28mself\u001b[39m\u001b[38;5;241m.\u001b[39mto_csv(csv_file)\n\u001b[0;32m--> 156\u001b[0m \u001b[43mcsv_to_md\u001b[49m\u001b[43m(\u001b[49m\u001b[43mcsv_file\u001b[49m\u001b[43m)\u001b[49m\n\u001b[1;32m    157\u001b[0m \u001b[38;5;28mself\u001b[39m\u001b[38;5;241m.\u001b[39minfo(\u001b[38;5;124mf\u001b[39m\u001b[38;5;124m\"\u001b[39m\u001b[38;5;124mOutput table saved to [red]\u001b[39m\u001b[38;5;132;01m{\u001b[39;00mout_file\u001b[38;5;132;01m}\u001b[39;00m\u001b[38;5;124m[/red]\u001b[39m\u001b[38;5;124m\"\u001b[39m)\n",
      "File \u001b[0;32m~/wandb/nb_helpers/nb_helpers/utils.py:80\u001b[0m, in \u001b[0;36mcsv_to_md\u001b[0;34m(csv_file_path, delimiter)\u001b[0m\n\u001b[1;32m     78\u001b[0m \u001b[38;5;124m\"\u001b[39m\u001b[38;5;124mFrom csv file to markdown table, useful for github posting\u001b[39m\u001b[38;5;124m\"\u001b[39m\n\u001b[1;32m     79\u001b[0m md_string \u001b[38;5;241m=\u001b[39m _csv_to_md(csv_file_path, delimiter)\n\u001b[0;32m---> 80\u001b[0m file \u001b[38;5;241m=\u001b[39m \u001b[38;5;28mopen\u001b[39m(\u001b[43moutput_file\u001b[49m, \u001b[38;5;124m\"\u001b[39m\u001b[38;5;124mw\u001b[39m\u001b[38;5;124m\"\u001b[39m, encoding\u001b[38;5;241m=\u001b[39m\u001b[38;5;124m\"\u001b[39m\u001b[38;5;124mUTF-8\u001b[39m\u001b[38;5;124m\"\u001b[39m)\n\u001b[1;32m     81\u001b[0m file\u001b[38;5;241m.\u001b[39mwrite(md_string)\n\u001b[1;32m     82\u001b[0m file\u001b[38;5;241m.\u001b[39mclose()\n",
      "\u001b[0;31mNameError\u001b[0m: name 'output_file' is not defined"
     ]
    }
   ],
   "source": [
    "run_nbs(\"test_data\")"
   ]
  }
 ],
 "metadata": {
  "kernelspec": {
   "display_name": "Python 3 (ipykernel)",
   "language": "python",
   "name": "python3"
  }
 },
 "nbformat": 4,
 "nbformat_minor": 5
}
